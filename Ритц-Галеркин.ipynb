{
 "cells": [
  {
   "cell_type": "markdown",
   "metadata": {},
   "source": [
    "# Метод Ритца для одномерного дифференциального уравнения "
   ]
  },
  {
   "cell_type": "code",
   "execution_count": 1,
   "metadata": {},
   "outputs": [],
   "source": [
    "import numpy as np\n",
    "import scipy as sp"
   ]
  },
  {
   "cell_type": "markdown",
   "metadata": {},
   "source": [
    "# 1.Постановка:\n",
    "$$-\\frac{d^2u}{dx^2} =f , u'(0)=u'(1)=0, f=(x-1/2)$$\n",
    "\n",
    "$$x\\in [0,1]$$\n",
    "В данной формулировке краевой задачи  мы видим, что  $$f \\in C[0,1]$$ и так как дифференциальный оператор тривиальный, то можем решить задачу для $$u \\in C^2[0,1]$$\n",
    "Решение: $$-\\frac{x^3}{6}+\\frac{x^2}{4}+const$$ \n",
    "# 2.Рассуждение о переформулировке в задачу минимизации:\n",
    "В чем же проблема? Ну действительно такая задача называется вырожденной задачей неймана и действительно по своим признакам она совпадает с определением данным в Лаевском. \n",
    "$\\mathcal{D}_{A, \\mathcal{N}}=\\left\\{u \\in C^2(\\bar{\\Omega}), \\quad \\frac{\\partial u}{\\partial n}(\\bar{x})=0, x \\stackrel{\\text { п.B. }}{\\epsilon} \\Gamma, \\quad \\int_{\\Omega} u d \\bar{x}=0\\right\\}$.\n",
    "\n",
    "И не удивительно, что она имеет бесконечное кол-во решений, потому как при подставлении $$u=const$$:\n",
    "$$\\mathcal{L} u \\equiv-\\sum_{i, j=1}^m \\frac{\\partial}{\\partial x_i}\\left(a_{i j}(\\bar{x}) \\frac{\\partial u}{\\partial x_j}\\right)+a_0(\\bar{x}) u=f(\\bar{x})=0$$\n",
    "\n",
    "Отсюда в том числе и проистекает требование $f \\in L_{2, \\perp}(\\Omega)$, которое в нашем случае выполняется\n",
    "\n",
    "Поэтому с целью получения единственного решения мы выделяем $$H^{1}_{\\perp}(0,1)$$  и переходим к интегральной формулировке."
   ]
  },
  {
   "cell_type": "markdown",
   "metadata": {},
   "source": [
    "# 3.Задача минимизации функционала:\n",
    "\n",
    "$$\\underset{v\\in V_n}{\\mathrm{argmin}}{F(v)}$$ \n",
    "\n",
    "где, $$F(v)=a(v,v)-2\\left<u, v \\right> $$\n",
    "\n",
    "Соответственно, задача переходит в такую:\n",
    "$$\\begin{aligned} & F(v)=\\int_0^1\\left(v^{\\prime}\\right)^2 d x-2 \\int_0^1\\left(x-\\frac{1}{2}\\right) v d x, \\\\ & H_A=\\left\\{v \\in H^1(0,1), \\quad \\int_0^1 v d x=0\\right\\} .\\end{aligned}$$"
   ]
  },
  {
   "cell_type": "markdown",
   "metadata": {},
   "source": [
    "# 4.Поиск предельно плотной последовательности\n",
    "Можем попробовать рассмотреть такую последовательность $$V_{n}=\\{sin(2\\pi kx)\\}_{k=1}^{n}$$\n",
    "\n",
    "Почему? - Потому что последоательность $\\{1,sin(2\\pi kx),cos(2\\pi kx)\\}_{k=1}^\\infty$ - предельна плотна в $L_2(0,1)$,но 1 нет смысла использовать, так как $\\int_{0}^{1} f*1 dx=0$ => следовательно матрица жесткости  $A$ в методе Галеркина таким образом приобретет 1 нулевой столбец и строку - станет вырожденной, ну и это нам говорит, что 1 нет в разложении по триг базису решения, $\\int_{0}^{1} f*cos(2\\pi kx)dx=0$ => тоже не имеет смысла, так как соответствующие компоненты при поиске решения просто занулятся.v\n",
    "\n",
    "$Av=f$ ~ $a(\\phi_k,\\phi_k)v_k=\\left(f, \\varphi_k\\right)$ тогда получается:\n",
    "$$ v_k\\int_{0}^{1}(sin(2\\pi kx)^{\\prime})^2 dx=\\int_{0}^{1}f(x)sin(2\\pi kx)dx$$\n",
    "$$v_k=\\frac{\\int_{0}^{1}f(x)sin(2\\pi kx)dx}{(2\\pi k)^2\\int_{0}^{1}cos^2(2\\pi kx) dx}$$\n",
    "$$v_k=\\frac{\\int_{0}^{1}(x-0.5)sin(2\\pi kx)dx}{(2\\pi k)^2 0.5}$$\n",
    "$$v_k=\\frac{-1}{(2\\pi k)^3 0.5}$$"
   ]
  },
  {
   "cell_type": "code",
   "execution_count": null,
   "metadata": {},
   "outputs": [],
   "source": [
    "def v(x):\n",
    "    return sum([-2/(2*np.pi*k)^3*np.sin(2*np.pi*k*x) for k in range(1,30)])\n",
    "    "
   ]
  },
  {
   "cell_type": "markdown",
   "metadata": {},
   "source": [
    "# 4.Полиномы Лежандра\n",
    "Прежде всего можно заметить, что любой полином можно представить как линейную комбинацию полиномов Лежандра. С другой стороны у нас есть теорема Вейерштрасса, которая утверждает, что полиномы плотны в норме C в пространстве непрерыв-ных функций. Следовательно и полиномы Лежандра плотны в простран-стве непрерывных функций в норме $C$. Но кроме того мы знаем, что непре-рывные функции плотны в норме $L2$ в пространстве $L2$ и мы знаем, что норма C более сильная чем норма $L2$, поэтому наша система полиномов Ле-жандра является плотной в пространстве $L2[1, −1]$ в норме $L2$. Но $L2[1, −1]$ -гильбертово пространство и плотная ортогональная система в таком про-странстве является базисом. \n",
    "\n",
    "В качестве $V_n$ возьмем $Lin\\{\\widetilde{P_k}\\}_{k=0}^{n}$,где $\\widetilde{P_k}$ - сдвинутые полиномы Лежандра.\n",
    "\n",
    "\n",
    "-Полиномы Лежандра:\n",
    "$$P_n(z)=\\frac{1}{2^n n !} \\frac{d^n}{d z^n}\\left(z^2-1\\right)^n, \\ z \\in [-1,1]$$\n",
    "\n",
    "-Формула для сдивнутых полиномов Лежандра\n",
    "$$P_n(z(y))=P_n(2y-1)=\\frac{1}{2^{2n} n !} \\frac{d^n}{d y^n}\\left((2y-1)^2-1\\right)^n=\\widetilde{P_n(y)}, \\ y \\in [0,1]$$\n",
    "-Несколько примеров:\n",
    "\n",
    "\n",
    "$\\begin{aligned} & P_0(x)=1, \\\\ & P_1(x)=x, \\\\ & P_2(x)=\\frac{1}{2}\\left(3 x^2-1\\right), \\\\ & P_3(x)=\\frac{1}{2}\\left(5 x^3-3 x\\right), \\\\ & P_4(x)=\\frac{1}{8}\\left(35 x^4-30 x^2+3\\right), \\\\ & P_5(x)=\\frac{1}{8}\\left(63 x^5-70 x^3+15 x\\right), \\\\ & P_6(x)=\\frac{1}{16}\\left(231 x^6-315 x^4+105 x^2-5\\right), \\\\ & P_7(x)=\\frac{1}{16}\\left(429 x^7-693 x^5+315 x^3-35 x\\right),\\end{aligned}$"
   ]
  },
  {
   "cell_type": "markdown",
   "metadata": {},
   "source": [
    "Создадим матрицу жесткости $$A$$ и $$F$$ - решим систему алгебраических уравнений"
   ]
  },
  {
   "cell_type": "code",
   "execution_count": 8,
   "metadata": {},
   "outputs": [
    {
     "name": "stdout",
     "output_type": "stream",
     "text": [
      "26923.034887526785\n",
      "[ 5.00125004e-02 -1.76277751e-18 -8.33333375e-03  1.31854582e-18]\n"
     ]
    }
   ],
   "source": [
    "n_max=4\n",
    "h=10000\n",
    "c_xy=[tuple([0]*i+[1])for i in range(1,n_max+1)]\n",
    "x=np.linspace(0,1,h+1)\n",
    "dx=1/h\n",
    "A=[[2*np.dot(np.polynomial.legendre.legval(2*x-1, np.polynomial.legendre.legder(i, m=1, scl=1, axis=0)),2*np.polynomial.legendre.legval(2*x-1,np.polynomial.legendre.legder(j, m=1, scl=1, axis=0) ))*dx for j in c_xy] for i in c_xy]\n",
    "A=np.array(A).reshape(n_max,n_max)\n",
    "print(np.linalg.det(A))\n",
    "f=lambda x:x-1/2\n",
    "F=[np.dot(f(x),np.polynomial.legendre.legval(2*x-1, i))*dx for i in c_xy]\n",
    "V=np.linalg.solve(A,F)\n",
    "print(V)\n"
   ]
  },
  {
   "cell_type": "code",
   "execution_count": 63,
   "metadata": {},
   "outputs": [
    {
     "data": {
      "text/plain": [
       "array([ 2.77555756e-17,  0.00000000e+00, -1.72930247e-17, -2.15704154e-32,\n",
       "       -1.13570178e-17,  1.84889275e-32])"
      ]
     },
     "execution_count": 63,
     "metadata": {},
     "output_type": "execute_result"
    }
   ],
   "source": [
    "A@V-F"
   ]
  },
  {
   "cell_type": "code",
   "execution_count": 9,
   "metadata": {},
   "outputs": [
    {
     "data": {
      "image/png": "[encoded data removed]",
      "text/plain": [
       "<Figure size 640x480 with 1 Axes>"
      ]
     },
     "metadata": {},
     "output_type": "display_data"
    }
   ],
   "source": [
    "import matplotlib.pyplot as plt\n",
    "plt.plot(x,np.polynomial.legendre.legval(2*x-1,[0]+[i for i in V]),x,-x**3/6+x**2/4-1/24)\n",
    "plt.legend([\"practic\",\"theoretic\"])\n",
    "plt.show()\n"
   ]
  },
  {
   "cell_type": "markdown",
   "metadata": {},
   "source": [
    "$L_{2,h}$ - норма"
   ]
  },
  {
   "cell_type": "code",
   "execution_count": 11,
   "metadata": {},
   "outputs": [
    {
     "name": "stdout",
     "output_type": "stream",
     "text": [
      "6.246251707315794e-14\n"
     ]
    }
   ],
   "source": [
    "g=np.polynomial.legendre.legval(2*x-1,[0]+[i for i in V])\n",
    "print(sum([(-x[i]**3/6+x[i]**2/4-1/24-g[i])**2 for i in range(len(V))])*dx)"
   ]
  },
  {
   "cell_type": "markdown",
   "metadata": {},
   "source": [
    "# 5.Матрица Масс для полиномов Лежандра"
   ]
  },
  {
   "cell_type": "code",
   "execution_count": 17,
   "metadata": {},
   "outputs": [
    {
     "name": "stdout",
     "output_type": "stream",
     "text": [
      "2.998203389058638\n"
     ]
    }
   ],
   "source": [
    "M=[[np.dot(np.polynomial.legendre.legval(2*x-1, j),np.polynomial.legendre.legval(2*x-1, i))*dx for i in c_xy] for j in c_xy]\n",
    "M=np.array(M).reshape(n_max,n_max)\n",
    "L=np.linalg.eig(M)[0]\n",
    "print(max(L)/min(L))"
   ]
  }
 ],
 "metadata": {
  "kernelspec": {
   "display_name": "Python 3",
   "language": "python",
   "name": "python3"
  },
  "language_info": {
   "codemirror_mode": {
    "name": "ipython",
    "version": 3
   },
   "file_extension": ".py",
   "mimetype": "text/x-python",
   "name": "python",
   "nbconvert_exporter": "python",
   "pygments_lexer": "ipython3",
   "version": "3.11.4"
  }
 },
 "nbformat": 4,
 "nbformat_minor": 2
}
