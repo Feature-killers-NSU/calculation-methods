{
 "cells": [
  {
   "cell_type": "markdown",
   "metadata": {},
   "source": [
    "# Метод Ритца для одномерного дифференциального уравнения "
   ]
  },
  {
   "cell_type": "code",
   "execution_count": 1,
   "metadata": {},
   "outputs": [],
   "source": [
    "import numpy as np\n",
    "import scipy as sp\n",
    "import matplotlib.pyplot as plt"
   ]
  },
  {
   "cell_type": "markdown",
   "metadata": {},
   "source": [
    "# 1.Постановка:\n",
    "$$-\\frac{d^2u}{dx^2} =f , u'(0)=u'(1)=0, f=(x-1/2)$$\n",
    "\n",
    "$$x\\in [0,1]$$\n",
    "В данной формулировке краевой задачи  мы видим, что  $$f \\in C[0,1]$$ и так как дифференциальный оператор тривиальный, то можем решить задачу для $$u \\in C^2[0,1]$$\n",
    "Решение: $$-\\frac{x^3}{6}+\\frac{x^2}{4}+const$$ \n",
    "# 2.Рассуждение о переформулировке в задачу минимизации:\n",
    "В чем же проблема? Ну действительно такая задача называется вырожденной задачей неймана и действительно по своим признакам она совпадает с определением данным в Лаевском. \n",
    "$\\mathcal{D}_{A, \\mathcal{N}}=\\left\\{u \\in C^2(\\bar{\\Omega}), \\quad \\frac{\\partial u}{\\partial n}(\\bar{x})=0, x \\stackrel{\\text { п.B. }}{\\epsilon} \\Gamma, \\quad \\int_{\\Omega} u d \\bar{x}=0\\right\\}$.\n",
    "\n",
    "И не удивительно, что она имеет бесконечное кол-во решений, потому как при подставлении $$u=const$$:\n",
    "$$\\mathcal{L} u \\equiv-\\sum_{i, j=1}^m \\frac{\\partial}{\\partial x_i}\\left(a_{i j}(\\bar{x}) \\frac{\\partial u}{\\partial x_j}\\right)+a_0(\\bar{x}) u=f(\\bar{x})=0$$\n",
    "\n",
    "Отсюда в том числе и проистекает требование $f \\in L_{2, \\perp}(\\Omega)$, которое в нашем случае выполняется\n",
    "\n",
    "Поэтому с целью получения единственного решения мы выделяем $$H^{1}_{\\perp}(0,1)$$  и переходим к интегральной формулировке."
   ]
  },
  {
   "cell_type": "markdown",
   "metadata": {},
   "source": [
    "# 3.Задача минимизации функционала:\n",
    "\n",
    "$$\\underset{v\\in V_n}{\\mathrm{argmin}}{F(v)}$$ \n",
    "\n",
    "где, $$F(v)=a(v,v)-2\\left<f, v \\right> $$\n",
    "\n",
    "Соответственно, задача переходит в такую:\n",
    "$$\\begin{aligned} & F(v)=\\int_0^1\\left(v^{\\prime}\\right)^2 d x-2 \\int_0^1\\left(x-\\frac{1}{2}\\right) v d x, \\\\ & H_A=\\left\\{v \\in H^1(0,1), \\quad \\int_0^1 v d x=0\\right\\} .\\end{aligned}$$"
   ]
  },
  {
   "cell_type": "markdown",
   "metadata": {},
   "source": [
    "# 4.Поиск предельно плотной последовательности\n",
    "Можем попробовать рассмотреть такую последовательность $$V_{n}=\\{cos(\\pi kx)\\}_{k=1}^{n}$$\n",
    "\n",
    "Почему? - Потому что последоательность $\\{1,sin(\\pi kx),cos(\\pi kx)\\}_{k=1}^\\infty$ - предельна плотна в $L_2(0,1)$,но 1 нет смысла использовать, так как $\\int_{0}^{1} f*1 dx=0$ => следовательно матрица жесткости  $A$ в методе Галеркина таким образом приобретет 1 нулевой столбец и строку - станет вырожденной, ну и это нам говорит, что 1 нет в разложении по триг базису решения, $\\int_{0}^{1} f*sin(\\pi kx)dx=0$ => тоже не имеет смысла, так как соответствующие компоненты при поиске решения просто занулятся.v\n",
    "\n",
    "$Av=f$ ~ $a(\\phi_k,\\phi_k)v_k=\\left(f, \\varphi_k\\right)$ тогда получается:\n",
    "$$ v_k\\int_{0}^{1}(cos(\\pi kx)^{\\prime})^2 dx=\\int_{0}^{1}f(x)cos(\\pi kx)dx$$\n",
    "$$v_k=\\frac{\\int_{0}^{1}f(x)cos(\\pi kx)dx}{(\\pi k)^2\\int_{0}^{1}sin^2(\\pi kx) dx}$$\n",
    "$$v_k=\\frac{\\int_{0}^{1}(x-0.5)cos(\\pi kx)dx}{(\\pi k)^2 0.5}$$\n",
    "$$v_k=\\frac{2sin(\\pi k)}{(\\pi k)^3}+\\frac{2(cos(\\pi k)-1)}{(\\pi k)^4}$$\n",
    "$$u(x)=\\overset{N}{\\underset{k=1}{\\Sigma}}v_k cos(\\pi k x)$$\n"
   ]
  },
  {
   "cell_type": "code",
   "execution_count": 6,
   "metadata": {},
   "outputs": [
    {
     "data": {
      "text/plain": [
       "[<matplotlib.lines.Line2D at 0x192022aef50>]"
      ]
     },
     "execution_count": 6,
     "metadata": {},
     "output_type": "execute_result"
    },
    {
     "data": {
      "image/png": "[encoded data removed]",
      "text/plain": [
       "<Figure size 640x480 with 1 Axes>"
      ]
     },
     "metadata": {},
     "output_type": "display_data"
    }
   ],
   "source": [
    "def u(N,x):\n",
    "    s=0\n",
    "    for k in range(1,N+1):\n",
    "       s+=(2*np.sin(np.pi*k)/(np.pi*k)**3+2*(np.cos(np.pi*k)-1)/(np.pi*k)**4)*np.cos(np.pi*k*x)\n",
    "    return s\n",
    "x=np.linspace(0,1,100)\n",
    "plt.plot(x,[u(5,i) for i in x])\n",
    "\n",
    "    "
   ]
  },
  {
   "cell_type": "markdown",
   "metadata": {},
   "source": [
    "Погрешность в $С[0,1]$:"
   ]
  },
  {
   "cell_type": "code",
   "execution_count": 13,
   "metadata": {},
   "outputs": [
    {
     "name": "stdout",
     "output_type": "stream",
     "text": [
      "1.2970430608910677e-05\n"
     ]
    }
   ],
   "source": [
    "m=0\n",
    "for i in x:\n",
    "  mm=abs(u(7,i)-(-i**3/6+i**2/4-1/24))\n",
    "  if mm>m:\n",
    "    m=mm\n",
    "print(m)    "
   ]
  },
  {
   "cell_type": "markdown",
   "metadata": {},
   "source": [
    "# 4.Полиномы Лежандра\n",
    "Прежде всего можно заметить, что любой полином можно представить как линейную комбинацию полиномов Лежандра. С другой стороны у нас есть теорема Вейерштрасса, которая утверждает, что полиномы плотны в норме C в пространстве непрерыв-ных функций. Следовательно и полиномы Лежандра плотны в простран-стве непрерывных функций в норме $C$. Но кроме того мы знаем, что непре-рывные функции плотны в норме $L_2$ в пространстве $L_2$ и мы знаем, что норма C более сильная чем норма $L_2$, поэтому наша система полиномов Ле-жандра является плотной в пространстве $L_2[1, −1]$ в норме $L_2$. Но $L_2[1, −1]$ -гильбертово пространство и плотная ортогональная система в таком про-странстве является базисом. \n",
    "\n",
    "В качестве $V_n$ возьмем $Lin\\{\\widetilde{P_k}\\}_{k=0}^{n}$,где $\\widetilde{P_k}$ - сдвинутые полиномы Лежандра.\n",
    "\n",
    "\n",
    "-Полиномы Лежандра:\n",
    "$$P_n(z)=\\frac{1}{2^n n !} \\frac{d^n}{d z^n}\\left(z^2-1\\right)^n, \\ z \\in [-1,1]$$\n",
    "\n",
    "-Формула для сдивнутых полиномов Лежандра\n",
    "$$P_n(z(y))=P_n(2y-1)=\\frac{1}{2^{2n} n !} \\frac{d^n}{d y^n}\\left((2y-1)^2-1\\right)^n=\\widetilde{P_n}(y), \\ y \\in [0,1]$$\n",
    "-Несколько примеров:\n",
    "\n",
    "\n",
    "$\\begin{aligned} & P_0(x)=1, \\\\ & P_1(x)=x, \\\\ & P_2(x)=\\frac{1}{2}\\left(3 x^2-1\\right), \\\\ & P_3(x)=\\frac{1}{2}\\left(5 x^3-3 x\\right), \\\\ & P_4(x)=\\frac{1}{8}\\left(35 x^4-30 x^2+3\\right), \\\\ & P_5(x)=\\frac{1}{8}\\left(63 x^5-70 x^3+15 x\\right), \\\\ & P_6(x)=\\frac{1}{16}\\left(231 x^6-315 x^4+105 x^2-5\\right), \\\\ & P_7(x)=\\frac{1}{16}\\left(429 x^7-693 x^5+315 x^3-35 x\\right),\\end{aligned}$"
   ]
  },
  {
   "cell_type": "markdown",
   "metadata": {},
   "source": [
    "Создадим матрицу жесткости $$A$$ и $$F$$ - решим систему алгебраических уравнений"
   ]
  },
  {
   "cell_type": "code",
   "execution_count": 8,
   "metadata": {},
   "outputs": [
    {
     "name": "stdout",
     "output_type": "stream",
     "text": [
      "26923.034887526785\n",
      "[ 5.00125004e-02 -1.76277751e-18 -8.33333375e-03  1.31854582e-18]\n"
     ]
    }
   ],
   "source": [
    "n_max=4\n",
    "h=10000\n",
    "c_xy=[tuple([0]*i+[1])for i in range(1,n_max+1)]\n",
    "x=np.linspace(0,1,h+1)\n",
    "dx=1/h\n",
    "A=[[2*np.dot(np.polynomial.legendre.legval(2*x-1, np.polynomial.legendre.legder(i, m=1, scl=1, axis=0)),2*np.polynomial.legendre.legval(2*x-1,np.polynomial.legendre.legder(j, m=1, scl=1, axis=0) ))*dx for j in c_xy] for i in c_xy]\n",
    "# (A)_(i,j) = integrate(phi_i'phi_j') dx - matrix\n",
    "\n",
    "A=np.array(A).reshape(n_max,n_max)\n",
    "print(np.linalg.det(A))\n",
    "f=lambda x:x-1/2\n",
    "F=[np.dot(f(x),np.polynomial.legendre.legval(2*x-1, i))*dx for i in c_xy]\n",
    "V=np.linalg.solve(A,F)\n",
    "print(V)\n"
   ]
  },
  {
   "cell_type": "code",
   "execution_count": 63,
   "metadata": {},
   "outputs": [
    {
     "data": {
      "text/plain": [
       "array([ 2.77555756e-17,  0.00000000e+00, -1.72930247e-17, -2.15704154e-32,\n",
       "       -1.13570178e-17,  1.84889275e-32])"
      ]
     },
     "execution_count": 63,
     "metadata": {},
     "output_type": "execute_result"
    }
   ],
   "source": [
    "A@V-F"
   ]
  },
  {
   "cell_type": "code",
   "execution_count": 9,
   "metadata": {},
   "outputs": [
    {
     "data": {
      "image/png": "[encoded data removed]",
      "text/plain": [
       "<Figure size 640x480 with 1 Axes>"
      ]
     },
     "metadata": {},
     "output_type": "display_data"
    }
   ],
   "source": [
    "import matplotlib.pyplot as plt\n",
    "plt.plot(x,np.polynomial.legendre.legval(2*x-1,[0]+[i for i in V]),x,-x**3/6+x**2/4-1/24)\n",
    "plt.legend([\"practic\",\"theoretic\"])\n",
    "plt.show()\n"
   ]
  },
  {
   "cell_type": "markdown",
   "metadata": {},
   "source": [
    "$L_{2,h}$ - норма"
   ]
  },
  {
   "cell_type": "code",
   "execution_count": 11,
   "metadata": {},
   "outputs": [
    {
     "name": "stdout",
     "output_type": "stream",
     "text": [
      "6.246251707315794e-14\n"
     ]
    }
   ],
   "source": [
    "g=np.polynomial.legendre.legval(2*x-1,[0]+[i for i in V])\n",
    "print(sum([(-x[i]**3/6+x[i]**2/4-1/24-g[i])**2 for i in range(len(V))])*dx)"
   ]
  },
  {
   "cell_type": "markdown",
   "metadata": {},
   "source": [
    "# 5.Матрица Масс для полиномов Лежандра"
   ]
  },
  {
   "cell_type": "code",
   "execution_count": 17,
   "metadata": {},
   "outputs": [
    {
     "name": "stdout",
     "output_type": "stream",
     "text": [
      "2.998203389058638\n"
     ]
    }
   ],
   "source": [
    "M=[[np.dot(np.polynomial.legendre.legval(2*x-1, j),np.polynomial.legendre.legval(2*x-1, i))*dx for i in c_xy] for j in c_xy]\n",
    "M=np.array(M).reshape(n_max,n_max)\n",
    "L=np.linalg.eig(M)[0]\n",
    "print(max(L)/min(L))"
   ]
  },
  {
   "cell_type": "markdown",
   "metadata": {},
   "source": [
    "Решение интегрального уравнения Фредгольма с помощью Галеркина:\n",
    "$$u(x)=\\int_0^1 k(x,y)u(y)dy + f(x)$$\n",
    "$k(x,y)=x^{\\alpha}(1-y)^{\\beta}$\n",
    "$f(x)=x^2$\n",
    "$$u(x)=\\overset{N}{\\underset{k=0}{\\Sigma}}a_k\\phi_k(x)$$\n",
    "$$a_m-\\overset{N}{\\underset{k=0}{\\Sigma}}\\gamma_{mk}a_k=(f,\\phi_m)\\   \\ \\ \\ \\forall m=1,..,N$$\n",
    "$$\\gamma_{mk}=\\int_0^1\\int_0^1 k(x,y)\\phi_m(x)\\phi_k(y)dydx$$\n"
   ]
  },
  {
   "cell_type": "markdown",
   "metadata": {},
   "source": [
    "Идейное наполнение функции Integrate:\n",
    "\n",
    "\n",
    "Для вычисления $\\gamma_{mk}$ разобьем $[0,1]$ на $n-$точек $dx=dy=\\frac{1}{n-1}$-длина каждого из $n-1$-кусочка\n",
    "\n",
    "$$x_i=x_{i-1}+dx;y_i=y_{i-1}+dy$$\n",
    "$$\\vec{\\phi_m}(x)=(\\phi_m(x_1),\\phi_m(x_2),..,\\phi_m(x_n)),\\vec{\\phi_k}(y)=(\\phi_k(y_1),\\phi_k(y_2),..,\\phi_k(y_n))^T$$\n",
    "$$K=(k_{ij})_{ij}=(k(x_i,y_j))_{ij}$$\n",
    "$$\\gamma_{mk}\\sim\\vec{\\phi_m}K\\vec{\\phi_k}h^2\\sim h\\vec{\\phi_m}K\\vec{\\phi_k}h$$\n"
   ]
  },
  {
   "cell_type": "markdown",
   "metadata": {},
   "source": [
    "Заметил что фишки ортоганальны и относительно ядра , разобраться с ортогональностью и прочим! потом"
   ]
  },
  {
   "cell_type": "code",
   "execution_count": 23,
   "metadata": {},
   "outputs": [],
   "source": [
    "\n",
    "\n",
    "def integrate(k,x,y,i,j):# Берем интеграл с ядром\n",
    "    h=1000\n",
    "    K=[]\n",
    "    for ii in x:\n",
    "       k_=[] \n",
    "       for jj in y:\n",
    "         k_.append(k(ii,jj))\n",
    "       K.append(k_) # составляем матрицу K - k(x_i,y_j)\n",
    "    xx=np.polynomial.legendre.legval(2*x-1,i)*(h/np.dot(np.polynomial.legendre.legval(2*x-1,i),np.polynomial.legendre.legval(2*x-1,i)))**0.5 # в качестве базисных функций берем полиномы лежандра сдивнутые на нужный отрезок + нормированные!!!\n",
    "    yy=np.polynomial.legendre.legval(2*y-1,j)*(h/np.dot(np.polynomial.legendre.legval(2*y-1,j),np.polynomial.legendre.legval(2*y-1,j)))**0.5\n",
    "    return xx@K@yy.transpose()\n",
    "def Gamma(k,f,N):\n",
    "    h=1000\n",
    "    Gamma_=np.array([0  for i in range(N*N)],dtype=float).reshape(N,N)\n",
    "    c_xy=[tuple([0]*i+[1])for i in range(0,N)]\n",
    "    x=np.linspace(0,1,h+1)\n",
    "    y=np.linspace(0,1,h+1)\n",
    "    dx=1/h\n",
    "    for i in c_xy:\n",
    "        for j in c_xy:\n",
    "             if (len(i)==len(j)):\n",
    "                Gamma_[len(i)-1][len(j)-1]=1-integrate(k,x,y,i,j)*(dx)**2 \n",
    "             else:    \n",
    "                Gamma_[len(i)-1][len(j)-1]=-integrate(k,x,y,i,j)*(dx)**2\n",
    "                #Gamma_[len(i)-1][len(j)-1]=0\n",
    "                \n",
    "            \n",
    "    F=np.array([1  for i in range(N)],dtype=float).reshape(N,1)\n",
    "    for i in c_xy:\n",
    "      F[len(i)-1][0]=np.dot(np.polynomial.legendre.legval(2*x-1,i),f(x))/(h*(np.dot(np.polynomial.legendre.legval(2*x-1,i),np.polynomial.legendre.legval(2*x-1,i))/h)**0.5)\n",
    "    return Gamma_,F  \n",
    "\n",
    "        "
   ]
  },
  {
   "cell_type": "code",
   "execution_count": 46,
   "metadata": {},
   "outputs": [
    {
     "data": {
      "text/plain": [
       "0.25050025"
      ]
     },
     "execution_count": 46,
     "metadata": {},
     "output_type": "execute_result"
    }
   ],
   "source": [
    "x=np.linspace(0,1,1001)\n",
    "y=np.linspace(0,1,1001)\n",
    "k=lambda x,y:x*(1-y)\n",
    "integrate(k,x,y,[1],[1])*10**-6"
   ]
  },
  {
   "cell_type": "code",
   "execution_count": 25,
   "metadata": {},
   "outputs": [
    {
     "data": {
      "text/plain": [
       "19.0"
      ]
     },
     "execution_count": 25,
     "metadata": {},
     "output_type": "execute_result"
    }
   ],
   "source": [
    "np.polynomial.legendre.legval(2*10-1,[0,1])"
   ]
  },
  {
   "cell_type": "code",
   "execution_count": 25,
   "metadata": {},
   "outputs": [
    {
     "data": {
      "text/plain": [
       "array([[ 7.49750000e-01,  1.44626315e-01, -5.58458539e-04,\n",
       "         6.60993924e-04],\n",
       "       [-1.44626315e-01,  1.08358350e+00, -3.22748453e-04,\n",
       "         3.82006454e-04],\n",
       "       [-5.58458539e-04,  3.22748453e-04,  9.99998754e-01,\n",
       "         1.47507573e-06],\n",
       "       [-6.60993924e-04,  3.82006454e-04, -1.47507573e-06,\n",
       "         1.00000175e+00]])"
      ]
     },
     "execution_count": 25,
     "metadata": {},
     "output_type": "execute_result"
    }
   ],
   "source": [
    "A"
   ]
  },
  {
   "cell_type": "code",
   "execution_count": 21,
   "metadata": {},
   "outputs": [
    {
     "name": "stdout",
     "output_type": "stream",
     "text": [
      "[[0.33366671]\n",
      " [0.28910811]\n",
      " [0.07546632]\n",
      " [0.00132133]]\n"
     ]
    }
   ],
   "source": [
    "print(F)"
   ]
  },
  {
   "cell_type": "code",
   "execution_count": 24,
   "metadata": {},
   "outputs": [
    {
     "name": "stdout",
     "output_type": "stream",
     "text": [
      "[[0.38374114]\n",
      " [0.31804749]\n",
      " [0.07557806]\n",
      " [0.00145359]]\n"
     ]
    }
   ],
   "source": [
    "N=4\n",
    "k=lambda x,y:x*(1-y)\n",
    "f=lambda x:x**2\n",
    "A,F=Gamma(k,f,N)\n",
    "V=np.linalg.solve(A,F)\n",
    "print(V)     \n",
    "   "
   ]
  },
  {
   "cell_type": "markdown",
   "metadata": {},
   "source": [
    "$u\\left(x\\right)=\\frac{383}{1000}+\\frac{159}{500}\\sqrt{3}\\left(2x-1\\right)+\\frac{5}{30}\\left(6x^{2}-6x+1\\right)=x^2+bx+c$\n",
    "\n",
    "\n",
    "$g\\left(x\\right)=\\int_{0}^{1}x\\left(1-y\\right)u\\left(y\\right)dy+x^{2}=x^2+ax$\n",
    "\n",
    "$c=\\frac{383}{1000}-\\frac{159}{500}\\sqrt{3}+\\frac{1}{6}=-0.0011$\n",
    "\n",
    "$a=\\int_{0}^{1}\\left(1-y\\right)u\\left(y\\right)dy=0.0997013$\n",
    "\n",
    "$b=\\frac{318}{500}\\sqrt{3}-1=0.1015843$\n",
    "\n",
    "$|b-a|=0.102709803754$"
   ]
  }
 ],
 "metadata": {
  "kernelspec": {
   "display_name": "Python 3",
   "language": "python",
   "name": "python3"
  },
  "language_info": {
   "codemirror_mode": {
    "name": "ipython",
    "version": 3
   },
   "file_extension": ".py",
   "mimetype": "text/x-python",
   "name": "python",
   "nbconvert_exporter": "python",
   "pygments_lexer": "ipython3",
   "version": "3.11.4"
  }
 },
 "nbformat": 4,
 "nbformat_minor": 2
}
